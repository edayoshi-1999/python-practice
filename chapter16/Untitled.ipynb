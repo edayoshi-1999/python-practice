{
 "cells": [
  {
   "cell_type": "code",
   "execution_count": 2,
   "id": "13d08bb5-4397-40bf-96fd-c950b01e8b1d",
   "metadata": {},
   "outputs": [],
   "source": [
    "from pathlib import Path\n",
    "import pandas as pd"
   ]
  },
  {
   "cell_type": "code",
   "execution_count": 4,
   "id": "441e94ea-d0b5-4740-b20a-1c8b5cf2127c",
   "metadata": {
    "scrolled": true
   },
   "outputs": [
    {
     "data": {
      "text/html": [
       "<div>\n",
       "<style scoped>\n",
       "    .dataframe tbody tr th:only-of-type {\n",
       "        vertical-align: middle;\n",
       "    }\n",
       "\n",
       "    .dataframe tbody tr th {\n",
       "        vertical-align: top;\n",
       "    }\n",
       "\n",
       "    .dataframe thead th {\n",
       "        text-align: right;\n",
       "    }\n",
       "</style>\n",
       "<table border=\"1\" class=\"dataframe\">\n",
       "  <thead>\n",
       "    <tr style=\"text-align: right;\">\n",
       "      <th></th>\n",
       "      <th>0</th>\n",
       "      <th>1</th>\n",
       "      <th>2</th>\n",
       "      <th>3</th>\n",
       "      <th>4</th>\n",
       "    </tr>\n",
       "  </thead>\n",
       "  <tbody>\n",
       "    <tr>\n",
       "      <th>0</th>\n",
       "      <td>日付</td>\n",
       "      <td>店舗</td>\n",
       "      <td>商品</td>\n",
       "      <td>個数</td>\n",
       "      <td>売り上げ</td>\n",
       "    </tr>\n",
       "    <tr>\n",
       "      <th>1</th>\n",
       "      <td>2025-01-12 00:00:00</td>\n",
       "      <td>店舗B</td>\n",
       "      <td>商品3</td>\n",
       "      <td>1</td>\n",
       "      <td>1288</td>\n",
       "    </tr>\n",
       "    <tr>\n",
       "      <th>2</th>\n",
       "      <td>2025-01-23 00:00:00</td>\n",
       "      <td>店舗C</td>\n",
       "      <td>商品3</td>\n",
       "      <td>8</td>\n",
       "      <td>14800</td>\n",
       "    </tr>\n",
       "    <tr>\n",
       "      <th>3</th>\n",
       "      <td>2025-01-29 00:00:00</td>\n",
       "      <td>店舗A</td>\n",
       "      <td>商品2</td>\n",
       "      <td>9</td>\n",
       "      <td>17253</td>\n",
       "    </tr>\n",
       "    <tr>\n",
       "      <th>4</th>\n",
       "      <td>2025-02-07 00:00:00</td>\n",
       "      <td>店舗A</td>\n",
       "      <td>商品1</td>\n",
       "      <td>3</td>\n",
       "      <td>3507</td>\n",
       "    </tr>\n",
       "    <tr>\n",
       "      <th>5</th>\n",
       "      <td>2025-01-26 00:00:00</td>\n",
       "      <td>店舗A</td>\n",
       "      <td>商品2</td>\n",
       "      <td>10</td>\n",
       "      <td>18130</td>\n",
       "    </tr>\n",
       "    <tr>\n",
       "      <th>6</th>\n",
       "      <td>2025-01-18 00:00:00</td>\n",
       "      <td>店舗A</td>\n",
       "      <td>商品2</td>\n",
       "      <td>5</td>\n",
       "      <td>5155</td>\n",
       "    </tr>\n",
       "    <tr>\n",
       "      <th>7</th>\n",
       "      <td>2025-02-08 00:00:00</td>\n",
       "      <td>店舗A</td>\n",
       "      <td>商品3</td>\n",
       "      <td>3</td>\n",
       "      <td>4092</td>\n",
       "    </tr>\n",
       "    <tr>\n",
       "      <th>8</th>\n",
       "      <td>2025-01-24 00:00:00</td>\n",
       "      <td>店舗C</td>\n",
       "      <td>商品2</td>\n",
       "      <td>10</td>\n",
       "      <td>16150</td>\n",
       "    </tr>\n",
       "    <tr>\n",
       "      <th>9</th>\n",
       "      <td>2025-01-20 00:00:00</td>\n",
       "      <td>店舗B</td>\n",
       "      <td>商品1</td>\n",
       "      <td>8</td>\n",
       "      <td>5704</td>\n",
       "    </tr>\n",
       "    <tr>\n",
       "      <th>10</th>\n",
       "      <td>2025-01-12 00:00:00</td>\n",
       "      <td>店舗A</td>\n",
       "      <td>商品3</td>\n",
       "      <td>2</td>\n",
       "      <td>1354</td>\n",
       "    </tr>\n",
       "  </tbody>\n",
       "</table>\n",
       "</div>"
      ],
      "text/plain": [
       "                      0    1    2   3      4\n",
       "0                    日付   店舗   商品  個数   売り上げ\n",
       "1   2025-01-12 00:00:00  店舗B  商品3   1   1288\n",
       "2   2025-01-23 00:00:00  店舗C  商品3   8  14800\n",
       "3   2025-01-29 00:00:00  店舗A  商品2   9  17253\n",
       "4   2025-02-07 00:00:00  店舗A  商品1   3   3507\n",
       "5   2025-01-26 00:00:00  店舗A  商品2  10  18130\n",
       "6   2025-01-18 00:00:00  店舗A  商品2   5   5155\n",
       "7   2025-02-08 00:00:00  店舗A  商品3   3   4092\n",
       "8   2025-01-24 00:00:00  店舗C  商品2  10  16150\n",
       "9   2025-01-20 00:00:00  店舗B  商品1   8   5704\n",
       "10  2025-01-12 00:00:00  店舗A  商品3   2   1354"
      ]
     },
     "execution_count": 4,
     "metadata": {},
     "output_type": "execute_result"
    }
   ],
   "source": [
    "df = pd.DataFrame()\n",
    "p = Path(\"data/data1.xlsx\").resolve()\n",
    "p.exists()\n",
    "df_current = pd.read_excel(p, header=None)\n",
    "df_current\n"
   ]
  },
  {
   "cell_type": "code",
   "execution_count": 2,
   "id": "8addc390-10a0-41d1-bf23-cb3054460c02",
   "metadata": {},
   "outputs": [
    {
     "name": "stderr",
     "output_type": "stream",
     "text": [
      "UsageError: Line magic function `%git` not found.\n"
     ]
    }
   ],
   "source": []
  },
  {
   "cell_type": "code",
   "execution_count": null,
   "id": "a1c390ba-0088-4eac-b545-71d76b73dc78",
   "metadata": {},
   "outputs": [],
   "source": []
  }
 ],
 "metadata": {
  "kernelspec": {
   "display_name": "Python 3 (ipykernel)",
   "language": "python",
   "name": "python3"
  },
  "language_info": {
   "codemirror_mode": {
    "name": "ipython",
    "version": 3
   },
   "file_extension": ".py",
   "mimetype": "text/x-python",
   "name": "python",
   "nbconvert_exporter": "python",
   "pygments_lexer": "ipython3",
   "version": "3.12.4"
  }
 },
 "nbformat": 4,
 "nbformat_minor": 5
}
