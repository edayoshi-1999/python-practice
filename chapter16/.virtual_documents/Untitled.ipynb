from pathlib import Path
import pandas as pd


df = pd.DataFrame()
p = Path("data/data1.xlsx").resolve()
p.exists()
df_current = pd.read_excel(p, header=None)
df_current



%conda install -c conda-forge jupyterlab-git



