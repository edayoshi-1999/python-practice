from pathlib import Path
import pandas as pd



df = pd.DataFrame()

df = []
for p in Path("data").glob("*.xlsx"):
    df_current = pd.read_excel(p, header=None)
    df_new = pd.concat([df, df_current])

# df_new



